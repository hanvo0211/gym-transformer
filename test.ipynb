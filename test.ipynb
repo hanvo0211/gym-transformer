{
 "cells": [
  {
   "cell_type": "code",
   "execution_count": 3,
   "metadata": {},
   "outputs": [
    {
     "name": "stdout",
     "output_type": "stream",
     "text": [
      "Final training plan saved locally as: 12_Week_Training_Plan_Structured.xlsx\n"
     ]
    }
   ],
   "source": [
    "import pandas as pd\n",
    "\n",
    "# Define the structured workout plan including muscle groups, exercises, and default reps/sets\n",
    "structured_workout_data = [\n",
    "    [\"Chest & Back\", \"Barbell Bench Press\", 4, 12, \"90 sec\"],\n",
    "    [\"Chest & Back\", \"Pull Ups / Lat Pulldown\", 5, \"8-10\", \"90 sec\"],\n",
    "    [\"Chest & Back\", \"Incline Dumbbell Press\", 4, 10, \"90 sec\"],\n",
    "    [\"Chest & Back\", \"Bent-Over Row\", 4, 10, \"90 sec\"],\n",
    "    [\"Chest & Back\", \"Dumbbell Pullover\", 4, 8, \"90 sec\"],\n",
    "    [\"Chest & Back\", \"Dips\", 4, 8, \"90 sec\"],\n",
    "    [\"Chest & Back\", \"Seated Cable Row\", 4, 8, \"90 sec\"],\n",
    "    [\"Quad & Hamstrings\", \"Squat\", 4, 12, \"90 sec\"],\n",
    "    [\"Quad & Hamstrings\", \"Romanian Deadlift\", 4, 10, \"90 sec\"],\n",
    "    [\"Quad & Hamstrings\", \"Leg Extension\", 4, 10, \"90 sec\"],\n",
    "    [\"Quad & Hamstrings\", \"Leg Curls\", 4, 10, \"90 sec\"],\n",
    "    [\"Quad & Hamstrings\", \"Calf Raise\", 6, 6, \"90 sec\"],\n",
    "    [\"Deltoid & Arms\", \"Military Press (OHP)\", 4, 12, \"90 sec\"],\n",
    "    [\"Deltoid & Arms\", \"Side Lateral Raise\", 4, 12, \"90 sec\"],\n",
    "    [\"Deltoid & Arms\", \"Front Raise with Barbell\", 4, 12, \"90 sec\"],\n",
    "    [\"Deltoid & Arms\", \"Face Pulls\", 4, 12, \"90 sec\"],\n",
    "    [\"Deltoid & Arms\", \"Rear Delt Flys\", 3, 12, \"90 sec\"],\n",
    "    [\"Deltoid & Arms\", \"Barbell Curls\", 4, 10, \"90 sec\"],\n",
    "    [\"Deltoid & Arms\", \"Skull Crusher\", 4, 10, \"90 sec\"],\n",
    "    [\"Hamstrings & Quads\", \"Sumo Deadlift\", 4, 12, \"90 sec\"],\n",
    "    [\"Hamstrings & Quads\", \"Leg Curl\", 5, 6, \"90 sec\"],\n",
    "    [\"Hamstrings & Quads\", \"Front Squat\", 4, 12, \"90 sec\"],\n",
    "    [\"Hamstrings & Quads\", \"Romanian Deadlift\", 4, 8, \"90 sec\"],\n",
    "    [\"Hamstrings & Quads\", \"Leg Press\", 4, 12, \"90 sec\"],\n",
    "    [\"Hamstrings & Quads\", \"Hyperextensions\", 3, 12, \"90 sec\"],\n",
    "    [\"Hamstrings & Quads\", \"Calf Press in Leg Machine\", 4, 15, \"90 sec\"],\n",
    "    [\"Chest & Arms\", \"Dumbbell Bench Press\", 4, 12, \"90 sec\"],\n",
    "    [\"Chest & Arms\", \"Dumbbell Fly\", 4, 10, \"90 sec\"],\n",
    "    [\"Chest & Arms\", \"Side Lateral Raise\", 3, 12, \"90 sec\"],\n",
    "    [\"Chest & Arms\", \"Biceps Curls with EZ-Bar\", 4, 10, \"90 sec\"],\n",
    "    [\"Chest & Arms\", \"Triceps Cable Push Downs\", 4, 10, \"120 sec\"]\n",
    "]\n",
    "\n",
    "# Convert to DataFrame\n",
    "df_structured = pd.DataFrame(structured_workout_data, columns=[\"Muscle Group\", \"Exercise\", \"Sets\", \"Reps\", \"Rest Time\"])\n",
    "\n",
    "# Define the correct weekly progressions for focus exercises\n",
    "corrected_focus_progression = {\n",
    "    \"Barbell Bench Press\": [[4, 12], [4, 10], [4, 6], [4, 6], [5, 8], [5, 8], [5, 5], [5, 5], [6, 5], [6, 5], [6, 3], [6, 3]],\n",
    "    \"Squat\": [[4, 12], [4, 10], [4, 6], [4, 6], [5, 12], [5, 8], [5, 5], [5, 5], [6, 5], [6, 5], [6, 3], [6, 3]],\n",
    "    \"Military Press (OHP)\": [[4, 12], [4, 10], [4, 6], [4, 6], [5, 12], [5, 8], [5, 5], [5, 5], [6, 5], [6, 5], [6, 3], [6, 3]],\n",
    "    \"Sumo Deadlift\": [[4, 12], [4, 10], [4, 6], [4, 6], [5, 12], [5, 8], [5, 5], [5, 5], [6, 5], [6, 5], [6, 3], [6, 3]],\n",
    "    \"Dumbbell Bench Press\": [[4, 12], [4, 10], [4, 6], [4, 6], [5, 8], [5, 8], [5, 5], [5, 5], [5, 5], [5, 5], [5, 5], [5, 5]]\n",
    "}\n",
    "\n",
    "# Generate the 12-week plan including dynamic focus exercise progression\n",
    "workout_data = []\n",
    "for week in range(1, 13):\n",
    "    for _, row in df_structured.iterrows():\n",
    "        exercise = row[\"Exercise\"]\n",
    "        if exercise in corrected_focus_progression:\n",
    "            sets, reps = corrected_focus_progression[exercise][week - 1]  # Adjust for focus exercises\n",
    "        else:\n",
    "            sets, reps = row[\"Sets\"], row[\"Reps\"]  # Keep default for non-focus exercises\n",
    "\n",
    "        workout_data.append([row[\"Muscle Group\"], exercise, sets, reps, row[\"Rest Time\"], f\"Week {week}\", \"\", \"\", \"\"])\n",
    "\n",
    "# Convert the structured data into a DataFrame\n",
    "df_final = pd.DataFrame(workout_data, columns=[\"Muscle Group\", \"Exercise\", \"Sets\", \"Reps\", \"Rest Time\", \"Week\", \"ORM\", \"Reality Sets/Reps\", \"Notes\"])\n",
    "\n",
    "# Save the full 12-week training plan as an Excel file\n",
    "file_path_final = \"12_Week_Training_Plan_Structured.xlsx\"\n",
    "with pd.ExcelWriter(file_path_final, engine='xlsxwriter') as writer:\n",
    "    df_final.to_excel(writer, sheet_name=\"Full Training Plan\", index=False)\n",
    "\n",
    "print(f\"Final training plan saved locally as: {file_path_final}\")"
   ]
  },
  {
   "cell_type": "code",
   "execution_count": 2,
   "metadata": {},
   "outputs": [
    {
     "name": "stdout",
     "output_type": "stream",
     "text": [
      "Collecting xlsxwriter\n",
      "  Obtaining dependency information for xlsxwriter from https://files.pythonhosted.org/packages/9b/07/df054f7413bdfff5e98f75056e4ed0977d0c8716424011fac2587864d1d3/XlsxWriter-3.2.2-py3-none-any.whl.metadata\n",
      "  Downloading XlsxWriter-3.2.2-py3-none-any.whl.metadata (2.8 kB)\n",
      "Downloading XlsxWriter-3.2.2-py3-none-any.whl (165 kB)\n",
      "\u001b[2K   \u001b[90m━━━━━━━━━━━━━━━━━━━━━━━━━━━━━━━━━━━━━━━━\u001b[0m \u001b[32m165.1/165.1 kB\u001b[0m \u001b[31m2.2 MB/s\u001b[0m eta \u001b[36m0:00:00\u001b[0m \u001b[36m0:00:01\u001b[0m\n",
      "\u001b[?25hInstalling collected packages: xlsxwriter\n",
      "Successfully installed xlsxwriter-3.2.2\n",
      "\n",
      "\u001b[1m[\u001b[0m\u001b[34;49mnotice\u001b[0m\u001b[1;39;49m]\u001b[0m\u001b[39;49m A new release of pip is available: \u001b[0m\u001b[31;49m23.2.1\u001b[0m\u001b[39;49m -> \u001b[0m\u001b[32;49m25.0\u001b[0m\n",
      "\u001b[1m[\u001b[0m\u001b[34;49mnotice\u001b[0m\u001b[1;39;49m]\u001b[0m\u001b[39;49m To update, run: \u001b[0m\u001b[32;49mpython3 -m pip install --upgrade pip\u001b[0m\n",
      "Note: you may need to restart the kernel to use updated packages.\n"
     ]
    }
   ],
   "source": [
    "pip install xlsxwriter"
   ]
  },
  {
   "cell_type": "code",
   "execution_count": null,
   "metadata": {},
   "outputs": [],
   "source": []
  }
 ],
 "metadata": {
  "kernelspec": {
   "display_name": "Python 3",
   "language": "python",
   "name": "python3"
  },
  "language_info": {
   "codemirror_mode": {
    "name": "ipython",
    "version": 3
   },
   "file_extension": ".py",
   "mimetype": "text/x-python",
   "name": "python",
   "nbconvert_exporter": "python",
   "pygments_lexer": "ipython3",
   "version": "3.11.6"
  }
 },
 "nbformat": 4,
 "nbformat_minor": 2
}
